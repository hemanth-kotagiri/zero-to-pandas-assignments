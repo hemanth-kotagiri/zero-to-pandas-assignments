{
 "cells": [
  {
   "cell_type": "markdown",
   "metadata": {
    "colab_type": "text",
    "id": "Swq2kOtMb8s9"
   },
   "source": [
    "# Assignment 1 - Python Basics Practice\n",
    "\n",
    "*This assignment is a part of the course [\"Data Analysis with Python: Zero to Pandas\"](https://jovian.ml/learn/data-analysis-with-python-zero-to-pandas)*\n",
    "\n",
    "In this assignment, you'll get to practice some of the concepts and skills covered in the following notebooks:\n",
    "\n",
    "1. [First Steps with Python and Jupyter](https://jovian.ml/aakashns/first-steps-with-python)\n",
    "2. [A Quick Tour of Variables and Data Types](https://jovian.ml/aakashns/python-variables-and-data-types)\n",
    "3. [Branching using Conditional Statements and Loops](https://jovian.ml/aakashns/python-branching-and-loops)\n",
    "\n",
    "As you go through this notebook, you will find a **???** in certain places. To complete this assignment, you must replace all the **???** with appropriate values, expressions or statements to ensure that the notebook runs properly end-to-end. \n",
    "\n",
    "Some things to keep in mind:\n",
    "\n",
    "* Make sure to run all the code cells, otherwise you may get errors like `NameError` for undefined variables.\n",
    "* Do not change variable names, delete cells or disturb other existing code. It may cause problems during evaluation.\n",
    "* In some cases, you may need to add some code cells or new statements before or after the line of code containing the **???**. \n",
    "* Since you'll be using a temporary online service for code execution, save your work by running `jovian.commit` at regular intervals.\n",
    "* Questions marked **(Optional)** will not be considered for evaluation, and can be skipped. They are for your learning.\n",
    "\n",
    "You can make submissions on this page: https://jovian.ml/learn/data-analysis-with-python-zero-to-pandas/assignment/assignment-1-python-basics-practice\n",
    "\n",
    "If you are stuck, you can ask for help on the community forum: https://jovian.ml/forum/t/assignment-1-python-practice/7761 . You can get help with errors or ask for hints, but **please don't ask for or share the full working answer code** on the forum.\n",
    "\n",
    "\n",
    "## How to run the code and save your work\n",
    "\n",
    "The recommended way to run this notebook is to click the \"Run\" button at the top of this page, and select \"Run on Binder\". This will run the notebook on [mybinder.org](https://mybinder.org), a free online service for running Jupyter notebooks. \n",
    "\n",
    "Before staring the assignment, let's save a snapshot of the assignment to your Jovian.ml profile, so that you can access it later, and continue your work."
   ]
  },
  {
   "cell_type": "code",
   "execution_count": 2,
   "metadata": {
    "colab": {},
    "colab_type": "code",
    "executionInfo": {
     "elapsed": 6861,
     "status": "ok",
     "timestamp": 1599245390731,
     "user": {
      "displayName": "Hemanth Kotagiri",
      "photoUrl": "https://lh3.googleusercontent.com/a-/AOh14GhXGdF8r2Wzt11jQkcbYP64Y4zRVcqWrJ2nBV48oA=s64",
      "userId": "08456305192725642260"
     },
     "user_tz": -330
    },
    "id": "R3VLVQt9b8s_"
   },
   "outputs": [],
   "source": [
    "# Install the library\n",
    "!pip install jovian --upgrade --quiet"
   ]
  },
  {
   "cell_type": "code",
   "execution_count": 3,
   "metadata": {
    "colab": {},
    "colab_type": "code",
    "executionInfo": {
     "elapsed": 6857,
     "status": "ok",
     "timestamp": 1599245390732,
     "user": {
      "displayName": "Hemanth Kotagiri",
      "photoUrl": "https://lh3.googleusercontent.com/a-/AOh14GhXGdF8r2Wzt11jQkcbYP64Y4zRVcqWrJ2nBV48oA=s64",
      "userId": "08456305192725642260"
     },
     "user_tz": -330
    },
    "id": "DaoJ40Vlb8tE"
   },
   "outputs": [],
   "source": [
    "# Import it\n",
    "import jovian"
   ]
  },
  {
   "cell_type": "code",
   "execution_count": 4,
   "metadata": {
    "colab": {},
    "colab_type": "code",
    "executionInfo": {
     "elapsed": 6852,
     "status": "ok",
     "timestamp": 1599245390733,
     "user": {
      "displayName": "Hemanth Kotagiri",
      "photoUrl": "https://lh3.googleusercontent.com/a-/AOh14GhXGdF8r2Wzt11jQkcbYP64Y4zRVcqWrJ2nBV48oA=s64",
      "userId": "08456305192725642260"
     },
     "user_tz": -330
    },
    "id": "ulgj3DY8b8tI"
   },
   "outputs": [],
   "source": [
    "project_name='python-practice-assignment-01'"
   ]
  },
  {
   "cell_type": "code",
   "execution_count": 5,
   "metadata": {
    "colab": {
     "base_uri": "https://localhost:8080/",
     "height": 120
    },
    "colab_type": "code",
    "executionInfo": {
     "elapsed": 25019,
     "status": "ok",
     "timestamp": 1599245408925,
     "user": {
      "displayName": "Hemanth Kotagiri",
      "photoUrl": "https://lh3.googleusercontent.com/a-/AOh14GhXGdF8r2Wzt11jQkcbYP64Y4zRVcqWrJ2nBV48oA=s64",
      "userId": "08456305192725642260"
     },
     "user_tz": -330
    },
    "id": "NN4OIqdob8tL",
    "outputId": "86a96120-a9c6-44ed-e9a8-00e02067f96a"
   },
   "outputs": [
    {
     "name": "stdout",
     "output_type": "stream",
     "text": [
      "[jovian] Detected Colab notebook...\u001b[0m\n",
      "[jovian] Please enter your API key ( from https://jovian.ml/ ):\u001b[0m\n",
      "API KEY: ··········\n",
      "[jovian] Uploading colab notebook to Jovian...\u001b[0m\n",
      "[jovian] Committed successfully! https://jovian.ml/hemanth-kotagiri/python-practice-assignment-01\u001b[0m\n"
     ]
    },
    {
     "data": {
      "application/vnd.google.colaboratory.intrinsic+json": {
       "type": "string"
      },
      "text/plain": [
       "'https://jovian.ml/hemanth-kotagiri/python-practice-assignment-01'"
      ]
     },
     "execution_count": 5,
     "metadata": {
      "tags": []
     },
     "output_type": "execute_result"
    }
   ],
   "source": [
    "# Capture and upload a snapshot\n",
    "jovian.commit(project=project_name, privacy='secret', evironment=None)"
   ]
  },
  {
   "cell_type": "markdown",
   "metadata": {
    "colab_type": "text",
    "id": "QRgVBqtbb8tR"
   },
   "source": [
    "You'll be asked to provide an API Key, to securely upload the notebook to your Jovian.ml account. You can get the API key from your Jovian.ml profile page after logging in / signing up. See the docs for details: https://jovian.ml/docs/user-guide/upload.html . The privacy of your assignment notebook is set to *Secret*, so that you can the evlauators can access it, but it will not shown on your public profile to other users."
   ]
  },
  {
   "cell_type": "markdown",
   "metadata": {
    "colab_type": "text",
    "id": "H6EK0CsPb8tR"
   },
   "source": [
    "## Problem 1 - Variables and Data Types\n",
    "\n",
    "**Q: Assign your name to the variable `name`.**"
   ]
  },
  {
   "cell_type": "code",
   "execution_count": 6,
   "metadata": {
    "colab": {},
    "colab_type": "code",
    "executionInfo": {
     "elapsed": 25018,
     "status": "ok",
     "timestamp": 1599245408927,
     "user": {
      "displayName": "Hemanth Kotagiri",
      "photoUrl": "https://lh3.googleusercontent.com/a-/AOh14GhXGdF8r2Wzt11jQkcbYP64Y4zRVcqWrJ2nBV48oA=s64",
      "userId": "08456305192725642260"
     },
     "user_tz": -330
    },
    "id": "XzaRbg0Vb8tS"
   },
   "outputs": [],
   "source": [
    "name = \"Hemanth\""
   ]
  },
  {
   "cell_type": "markdown",
   "metadata": {
    "colab_type": "text",
    "id": "RMBp40hbb8tX"
   },
   "source": [
    "**Q: Assign your age (real or fake) to the variable `age`.**"
   ]
  },
  {
   "cell_type": "code",
   "execution_count": 7,
   "metadata": {
    "colab": {},
    "colab_type": "code",
    "executionInfo": {
     "elapsed": 25017,
     "status": "ok",
     "timestamp": 1599245408928,
     "user": {
      "displayName": "Hemanth Kotagiri",
      "photoUrl": "https://lh3.googleusercontent.com/a-/AOh14GhXGdF8r2Wzt11jQkcbYP64Y4zRVcqWrJ2nBV48oA=s64",
      "userId": "08456305192725642260"
     },
     "user_tz": -330
    },
    "id": "sIGFGtJtb8tZ"
   },
   "outputs": [],
   "source": [
    "age = 19"
   ]
  },
  {
   "cell_type": "markdown",
   "metadata": {
    "colab_type": "text",
    "id": "NFFfGfnfb8td"
   },
   "source": [
    "**Q: Assign a boolean value to the variable `has_android_phone`.**"
   ]
  },
  {
   "cell_type": "code",
   "execution_count": 8,
   "metadata": {
    "colab": {},
    "colab_type": "code",
    "executionInfo": {
     "elapsed": 25012,
     "status": "ok",
     "timestamp": 1599245408929,
     "user": {
      "displayName": "Hemanth Kotagiri",
      "photoUrl": "https://lh3.googleusercontent.com/a-/AOh14GhXGdF8r2Wzt11jQkcbYP64Y4zRVcqWrJ2nBV48oA=s64",
      "userId": "08456305192725642260"
     },
     "user_tz": -330
    },
    "id": "ySv73XS4b8td"
   },
   "outputs": [],
   "source": [
    "has_android_phone = True"
   ]
  },
  {
   "cell_type": "markdown",
   "metadata": {
    "colab_type": "text",
    "id": "AMsCdSUqb8tg"
   },
   "source": [
    "You can check the values of these variables by running the next cell."
   ]
  },
  {
   "cell_type": "code",
   "execution_count": 9,
   "metadata": {
    "colab": {
     "base_uri": "https://localhost:8080/",
     "height": 34
    },
    "colab_type": "code",
    "executionInfo": {
     "elapsed": 24987,
     "status": "ok",
     "timestamp": 1599245408930,
     "user": {
      "displayName": "Hemanth Kotagiri",
      "photoUrl": "https://lh3.googleusercontent.com/a-/AOh14GhXGdF8r2Wzt11jQkcbYP64Y4zRVcqWrJ2nBV48oA=s64",
      "userId": "08456305192725642260"
     },
     "user_tz": -330
    },
    "id": "bNROhkdYb8th",
    "outputId": "cc421b71-14e1-423b-a445-4d74474c017a"
   },
   "outputs": [
    {
     "data": {
      "text/plain": [
       "('Hemanth', 19, True)"
      ]
     },
     "execution_count": 9,
     "metadata": {
      "tags": []
     },
     "output_type": "execute_result"
    }
   ],
   "source": [
    "name, age, has_android_phone"
   ]
  },
  {
   "cell_type": "markdown",
   "metadata": {
    "colab_type": "text",
    "id": "-Phq-9nOb8tm"
   },
   "source": [
    "**Q: Create a dictionary `person` with keys `\"Name\"`, `\"Age\"`, `\"HasAndroidPhone\"` and values using the variables defined above.**"
   ]
  },
  {
   "cell_type": "code",
   "execution_count": 10,
   "metadata": {
    "colab": {},
    "colab_type": "code",
    "executionInfo": {
     "elapsed": 24984,
     "status": "ok",
     "timestamp": 1599245408931,
     "user": {
      "displayName": "Hemanth Kotagiri",
      "photoUrl": "https://lh3.googleusercontent.com/a-/AOh14GhXGdF8r2Wzt11jQkcbYP64Y4zRVcqWrJ2nBV48oA=s64",
      "userId": "08456305192725642260"
     },
     "user_tz": -330
    },
    "id": "CIuVAuq-b8tn"
   },
   "outputs": [],
   "source": [
    "person = {\n",
    "    \"Name\": name,\n",
    "    \"Age\" : age,\n",
    "    \"HasAndroidPhone\": has_android_phone\n",
    "}"
   ]
  },
  {
   "cell_type": "markdown",
   "metadata": {
    "colab_type": "text",
    "id": "7Cgqvh40b8ts"
   },
   "source": [
    "Let's use the `person` dictionary to print a nice message."
   ]
  },
  {
   "cell_type": "code",
   "execution_count": 11,
   "metadata": {
    "colab": {
     "base_uri": "https://localhost:8080/",
     "height": 34
    },
    "colab_type": "code",
    "executionInfo": {
     "elapsed": 24971,
     "status": "ok",
     "timestamp": 1599245408932,
     "user": {
      "displayName": "Hemanth Kotagiri",
      "photoUrl": "https://lh3.googleusercontent.com/a-/AOh14GhXGdF8r2Wzt11jQkcbYP64Y4zRVcqWrJ2nBV48oA=s64",
      "userId": "08456305192725642260"
     },
     "user_tz": -330
    },
    "id": "_ZNrTMXUb8tt",
    "outputId": "c0569acf-2aff-427b-9df4-7fb67dc3c09c"
   },
   "outputs": [
    {
     "name": "stdout",
     "output_type": "stream",
     "text": [
      "Hemanth is aged 19, and owns an Android phone.\n"
     ]
    }
   ],
   "source": [
    "print(\"{} is aged {}, and owns an {}.\".format(\n",
    "    person[\"Name\"], \n",
    "    person[\"Age\"], \n",
    "    \"Android phone\" if person[\"HasAndroidPhone\"] else \"iPhone\"\n",
    "))"
   ]
  },
  {
   "cell_type": "markdown",
   "metadata": {
    "colab_type": "text",
    "id": "Po5oX74cb8tx"
   },
   "source": [
    "**Q (Optional): Use a `for` loop to display the `type` of each value stored against each key in `person`.**\n",
    "\n",
    "Here's the expected output for the key `\"Name\"`: \n",
    "\n",
    "```\n",
    "The key \"Name\" has the value \"Derek\" of the type \"<class 'str'>\"\n",
    "```"
   ]
  },
  {
   "cell_type": "code",
   "execution_count": 12,
   "metadata": {
    "colab": {
     "base_uri": "https://localhost:8080/",
     "height": 68
    },
    "colab_type": "code",
    "executionInfo": {
     "elapsed": 24960,
     "status": "ok",
     "timestamp": 1599245408933,
     "user": {
      "displayName": "Hemanth Kotagiri",
      "photoUrl": "https://lh3.googleusercontent.com/a-/AOh14GhXGdF8r2Wzt11jQkcbYP64Y4zRVcqWrJ2nBV48oA=s64",
      "userId": "08456305192725642260"
     },
     "user_tz": -330
    },
    "id": "cWKsth18b8ty",
    "outputId": "dfe99e2e-a2a2-4a5f-9cb8-57aef517d49f"
   },
   "outputs": [
    {
     "name": "stdout",
     "output_type": "stream",
     "text": [
      "The key \"Name\" has the value \"Hemanth\" of the type <class 'str'>\n",
      "The key \"Age\" has the value \"19\" of the type <class 'int'>\n",
      "The key \"HasAndroidPhone\" has the value \"True\" of the type <class 'bool'>\n"
     ]
    }
   ],
   "source": [
    "# this is optional\n",
    "for key, value in person.items():\n",
    "    print(f'The key \"{key}\" has the value \"{value}\" of the type {type(value)}')"
   ]
  },
  {
   "cell_type": "markdown",
   "metadata": {
    "colab_type": "text",
    "id": "hZ9J7vvTb8t3"
   },
   "source": [
    "Now that you've solved one problem, it would be a good idea to record a snapshot of your notebook."
   ]
  },
  {
   "cell_type": "code",
   "execution_count": 13,
   "metadata": {
    "colab": {
     "base_uri": "https://localhost:8080/",
     "height": 86
    },
    "colab_type": "code",
    "executionInfo": {
     "elapsed": 28515,
     "status": "ok",
     "timestamp": 1599245412503,
     "user": {
      "displayName": "Hemanth Kotagiri",
      "photoUrl": "https://lh3.googleusercontent.com/a-/AOh14GhXGdF8r2Wzt11jQkcbYP64Y4zRVcqWrJ2nBV48oA=s64",
      "userId": "08456305192725642260"
     },
     "user_tz": -330
    },
    "id": "0kgs1BhPb8t4",
    "outputId": "6c1f222b-6c3d-4733-e802-73ee5bd026f9"
   },
   "outputs": [
    {
     "name": "stdout",
     "output_type": "stream",
     "text": [
      "[jovian] Detected Colab notebook...\u001b[0m\n",
      "[jovian] Uploading colab notebook to Jovian...\u001b[0m\n",
      "[jovian] Committed successfully! https://jovian.ml/hemanth-kotagiri/python-practice-assignment-01\u001b[0m\n"
     ]
    },
    {
     "data": {
      "application/vnd.google.colaboratory.intrinsic+json": {
       "type": "string"
      },
      "text/plain": [
       "'https://jovian.ml/hemanth-kotagiri/python-practice-assignment-01'"
      ]
     },
     "execution_count": 13,
     "metadata": {
      "tags": []
     },
     "output_type": "execute_result"
    }
   ],
   "source": [
    "jovian.commit(project=project_name,environment=None)"
   ]
  },
  {
   "cell_type": "markdown",
   "metadata": {
    "colab_type": "text",
    "id": "dAGoDKWQb8t9"
   },
   "source": [
    "## Problem 2 - Working with Lists\n",
    "\n",
    "**Q: Create a list containing the following 3 elements:**\n",
    "\n",
    "* your favorite color\n",
    "* the number of pets you have\n",
    "* a boolean value describing whether you have previous programming experience\n"
   ]
  },
  {
   "cell_type": "code",
   "execution_count": 14,
   "metadata": {
    "colab": {},
    "colab_type": "code",
    "executionInfo": {
     "elapsed": 28513,
     "status": "ok",
     "timestamp": 1599245412504,
     "user": {
      "displayName": "Hemanth Kotagiri",
      "photoUrl": "https://lh3.googleusercontent.com/a-/AOh14GhXGdF8r2Wzt11jQkcbYP64Y4zRVcqWrJ2nBV48oA=s64",
      "userId": "08456305192725642260"
     },
     "user_tz": -330
    },
    "id": "qc0y5nmib8t9"
   },
   "outputs": [],
   "source": [
    "my_list = [\"Blue\", 0, True]"
   ]
  },
  {
   "cell_type": "markdown",
   "metadata": {
    "colab_type": "text",
    "id": "ZuFXlKX9b8uF"
   },
   "source": [
    "Let's see what the list looks like:"
   ]
  },
  {
   "cell_type": "code",
   "execution_count": 15,
   "metadata": {
    "colab": {
     "base_uri": "https://localhost:8080/",
     "height": 34
    },
    "colab_type": "code",
    "executionInfo": {
     "elapsed": 28499,
     "status": "ok",
     "timestamp": 1599245412505,
     "user": {
      "displayName": "Hemanth Kotagiri",
      "photoUrl": "https://lh3.googleusercontent.com/a-/AOh14GhXGdF8r2Wzt11jQkcbYP64Y4zRVcqWrJ2nBV48oA=s64",
      "userId": "08456305192725642260"
     },
     "user_tz": -330
    },
    "id": "OZPLKaXJb8uI",
    "outputId": "11ec4584-fbc7-4c4a-ae44-73ac06c10ef3"
   },
   "outputs": [
    {
     "data": {
      "text/plain": [
       "['Blue', 0, True]"
      ]
     },
     "execution_count": 15,
     "metadata": {
      "tags": []
     },
     "output_type": "execute_result"
    }
   ],
   "source": [
    "my_list"
   ]
  },
  {
   "cell_type": "markdown",
   "metadata": {
    "colab_type": "text",
    "id": "NZeKaaXFb8uL"
   },
   "source": [
    "**Q: Complete the following `print` and `if` statements by accessing the appropriate elements from `my_list`.**\n",
    "\n",
    "*Hint*: Use the list indexing notation `[]`."
   ]
  },
  {
   "cell_type": "code",
   "execution_count": 16,
   "metadata": {
    "colab": {
     "base_uri": "https://localhost:8080/",
     "height": 34
    },
    "colab_type": "code",
    "executionInfo": {
     "elapsed": 28489,
     "status": "ok",
     "timestamp": 1599245412506,
     "user": {
      "displayName": "Hemanth Kotagiri",
      "photoUrl": "https://lh3.googleusercontent.com/a-/AOh14GhXGdF8r2Wzt11jQkcbYP64Y4zRVcqWrJ2nBV48oA=s64",
      "userId": "08456305192725642260"
     },
     "user_tz": -330
    },
    "id": "xJ_Oo3Xkb8uL",
    "outputId": "1810a824-eb46-4a53-e71c-4f85e10fcd21"
   },
   "outputs": [
    {
     "name": "stdout",
     "output_type": "stream",
     "text": [
      "My favorite color is Blue\n"
     ]
    }
   ],
   "source": [
    "print('My favorite color is', my_list[0])"
   ]
  },
  {
   "cell_type": "code",
   "execution_count": 17,
   "metadata": {
    "colab": {
     "base_uri": "https://localhost:8080/",
     "height": 34
    },
    "colab_type": "code",
    "executionInfo": {
     "elapsed": 28482,
     "status": "ok",
     "timestamp": 1599245412507,
     "user": {
      "displayName": "Hemanth Kotagiri",
      "photoUrl": "https://lh3.googleusercontent.com/a-/AOh14GhXGdF8r2Wzt11jQkcbYP64Y4zRVcqWrJ2nBV48oA=s64",
      "userId": "08456305192725642260"
     },
     "user_tz": -330
    },
    "id": "zlnWijHSb8uO",
    "outputId": "ba3d1f7a-0b1a-403f-b9e4-224445f9dba5"
   },
   "outputs": [
    {
     "name": "stdout",
     "output_type": "stream",
     "text": [
      "I have 0 pet(s).\n"
     ]
    }
   ],
   "source": [
    "print('I have {} pet(s).'.format(my_list[1]))"
   ]
  },
  {
   "cell_type": "code",
   "execution_count": 18,
   "metadata": {
    "colab": {
     "base_uri": "https://localhost:8080/",
     "height": 34
    },
    "colab_type": "code",
    "executionInfo": {
     "elapsed": 28475,
     "status": "ok",
     "timestamp": 1599245412508,
     "user": {
      "displayName": "Hemanth Kotagiri",
      "photoUrl": "https://lh3.googleusercontent.com/a-/AOh14GhXGdF8r2Wzt11jQkcbYP64Y4zRVcqWrJ2nBV48oA=s64",
      "userId": "08456305192725642260"
     },
     "user_tz": -330
    },
    "id": "66LiLAtXb8uR",
    "outputId": "d03c6b76-78b6-4559-f43f-9701556a1979"
   },
   "outputs": [
    {
     "name": "stdout",
     "output_type": "stream",
     "text": [
      "I have previous programming experience\n"
     ]
    }
   ],
   "source": [
    "if my_list[-1]:\n",
    "    print(\"I have previous programming experience\")\n",
    "else:\n",
    "    print(\"I do not have previous programming experience\")"
   ]
  },
  {
   "cell_type": "markdown",
   "metadata": {
    "colab_type": "text",
    "id": "JGrUHEunb8uX"
   },
   "source": [
    "**Q: Add your favorite single digit number to the end of the list using the appropriate list method.**"
   ]
  },
  {
   "cell_type": "code",
   "execution_count": 19,
   "metadata": {
    "colab": {},
    "colab_type": "code",
    "executionInfo": {
     "elapsed": 28471,
     "status": "ok",
     "timestamp": 1599245412509,
     "user": {
      "displayName": "Hemanth Kotagiri",
      "photoUrl": "https://lh3.googleusercontent.com/a-/AOh14GhXGdF8r2Wzt11jQkcbYP64Y4zRVcqWrJ2nBV48oA=s64",
      "userId": "08456305192725642260"
     },
     "user_tz": -330
    },
    "id": "W_iGZ5_Kb8uX"
   },
   "outputs": [],
   "source": [
    "my_list.append(9)"
   ]
  },
  {
   "cell_type": "markdown",
   "metadata": {
    "colab_type": "text",
    "id": "KoxDU0NOb8ub"
   },
   "source": [
    "Let's see if the number shows up in the list."
   ]
  },
  {
   "cell_type": "code",
   "execution_count": 20,
   "metadata": {
    "colab": {
     "base_uri": "https://localhost:8080/",
     "height": 34
    },
    "colab_type": "code",
    "executionInfo": {
     "elapsed": 28464,
     "status": "ok",
     "timestamp": 1599245412510,
     "user": {
      "displayName": "Hemanth Kotagiri",
      "photoUrl": "https://lh3.googleusercontent.com/a-/AOh14GhXGdF8r2Wzt11jQkcbYP64Y4zRVcqWrJ2nBV48oA=s64",
      "userId": "08456305192725642260"
     },
     "user_tz": -330
    },
    "id": "x-Zq7mzFb8uc",
    "outputId": "87151663-8696-4fa5-b14a-8af3ce246d19"
   },
   "outputs": [
    {
     "data": {
      "text/plain": [
       "['Blue', 0, True, 9]"
      ]
     },
     "execution_count": 20,
     "metadata": {
      "tags": []
     },
     "output_type": "execute_result"
    }
   ],
   "source": [
    "my_list"
   ]
  },
  {
   "cell_type": "markdown",
   "metadata": {
    "colab_type": "text",
    "id": "4dq5xf5Wb8ug"
   },
   "source": [
    "**Q: Remove the first element of the list, using the appropriate list method.**\n",
    "\n",
    "*Hint*: Check out methods of list here: https://www.w3schools.com/python/python_ref_list.asp"
   ]
  },
  {
   "cell_type": "code",
   "execution_count": 21,
   "metadata": {
    "colab": {
     "base_uri": "https://localhost:8080/",
     "height": 35
    },
    "colab_type": "code",
    "executionInfo": {
     "elapsed": 28453,
     "status": "ok",
     "timestamp": 1599245412510,
     "user": {
      "displayName": "Hemanth Kotagiri",
      "photoUrl": "https://lh3.googleusercontent.com/a-/AOh14GhXGdF8r2Wzt11jQkcbYP64Y4zRVcqWrJ2nBV48oA=s64",
      "userId": "08456305192725642260"
     },
     "user_tz": -330
    },
    "id": "WoXhCXO-b8uh",
    "outputId": "f685f74c-ea08-49f6-8b45-1f15cc5ca168"
   },
   "outputs": [
    {
     "data": {
      "application/vnd.google.colaboratory.intrinsic+json": {
       "type": "string"
      },
      "text/plain": [
       "'Blue'"
      ]
     },
     "execution_count": 21,
     "metadata": {
      "tags": []
     },
     "output_type": "execute_result"
    }
   ],
   "source": [
    "my_list.pop(0)"
   ]
  },
  {
   "cell_type": "code",
   "execution_count": 22,
   "metadata": {
    "colab": {
     "base_uri": "https://localhost:8080/",
     "height": 34
    },
    "colab_type": "code",
    "executionInfo": {
     "elapsed": 28445,
     "status": "ok",
     "timestamp": 1599245412511,
     "user": {
      "displayName": "Hemanth Kotagiri",
      "photoUrl": "https://lh3.googleusercontent.com/a-/AOh14GhXGdF8r2Wzt11jQkcbYP64Y4zRVcqWrJ2nBV48oA=s64",
      "userId": "08456305192725642260"
     },
     "user_tz": -330
    },
    "id": "KJYeZUVmb8un",
    "outputId": "d7800bf7-f4ce-42c7-f931-294a46238efb"
   },
   "outputs": [
    {
     "data": {
      "text/plain": [
       "[0, True, 9]"
      ]
     },
     "execution_count": 22,
     "metadata": {
      "tags": []
     },
     "output_type": "execute_result"
    }
   ],
   "source": [
    "my_list"
   ]
  },
  {
   "cell_type": "markdown",
   "metadata": {
    "colab_type": "text",
    "id": "Eb_sXy_Ub8uq"
   },
   "source": [
    "**Q: Complete the `print` statement below to display the number of elements in `my_list`.**"
   ]
  },
  {
   "cell_type": "code",
   "execution_count": 23,
   "metadata": {
    "colab": {
     "base_uri": "https://localhost:8080/",
     "height": 34
    },
    "colab_type": "code",
    "executionInfo": {
     "elapsed": 28437,
     "status": "ok",
     "timestamp": 1599245412512,
     "user": {
      "displayName": "Hemanth Kotagiri",
      "photoUrl": "https://lh3.googleusercontent.com/a-/AOh14GhXGdF8r2Wzt11jQkcbYP64Y4zRVcqWrJ2nBV48oA=s64",
      "userId": "08456305192725642260"
     },
     "user_tz": -330
    },
    "id": "BBfPft2Wb8ur",
    "outputId": "23674d6b-f551-40eb-f2b7-bb02367ef2d2"
   },
   "outputs": [
    {
     "name": "stdout",
     "output_type": "stream",
     "text": [
      "The list has 3 elements.\n"
     ]
    }
   ],
   "source": [
    "print(\"The list has {} elements.\".format(len(my_list)))"
   ]
  },
  {
   "cell_type": "markdown",
   "metadata": {
    "colab_type": "text",
    "id": "AG26sjn1b8uu"
   },
   "source": [
    "Well done, you're making good progress! Save your work before continuing"
   ]
  },
  {
   "cell_type": "code",
   "execution_count": 24,
   "metadata": {
    "colab": {
     "base_uri": "https://localhost:8080/",
     "height": 86
    },
    "colab_type": "code",
    "executionInfo": {
     "elapsed": 30235,
     "status": "ok",
     "timestamp": 1599245414319,
     "user": {
      "displayName": "Hemanth Kotagiri",
      "photoUrl": "https://lh3.googleusercontent.com/a-/AOh14GhXGdF8r2Wzt11jQkcbYP64Y4zRVcqWrJ2nBV48oA=s64",
      "userId": "08456305192725642260"
     },
     "user_tz": -330
    },
    "id": "AA3FK7slb8uv",
    "outputId": "d7412736-d7c2-4ae8-c52a-a29c2a83201c"
   },
   "outputs": [
    {
     "name": "stdout",
     "output_type": "stream",
     "text": [
      "[jovian] Detected Colab notebook...\u001b[0m\n",
      "[jovian] Uploading colab notebook to Jovian...\u001b[0m\n",
      "[jovian] Committed successfully! https://jovian.ml/hemanth-kotagiri/python-practice-assignment-01\u001b[0m\n"
     ]
    },
    {
     "data": {
      "application/vnd.google.colaboratory.intrinsic+json": {
       "type": "string"
      },
      "text/plain": [
       "'https://jovian.ml/hemanth-kotagiri/python-practice-assignment-01'"
      ]
     },
     "execution_count": 24,
     "metadata": {
      "tags": []
     },
     "output_type": "execute_result"
    }
   ],
   "source": [
    "jovian.commit(project=project_name,environment=None)"
   ]
  },
  {
   "cell_type": "markdown",
   "metadata": {
    "colab_type": "text",
    "id": "TL31quADb8ux"
   },
   "source": [
    "## Problem 3 - Conditions and loops\n",
    "\n",
    "**Q: Calculate and display the sum of all the numbers divisible by 7 between 18 and 534 i.e. `21+28+35+...+525+532`**.\n",
    "\n",
    "*Hint*: One way to do this is to loop over a `range` using `for` and use an `if` statement inside it."
   ]
  },
  {
   "cell_type": "code",
   "execution_count": 25,
   "metadata": {
    "colab": {
     "base_uri": "https://localhost:8080/",
     "height": 0
    },
    "colab_type": "code",
    "executionInfo": {
     "elapsed": 30227,
     "status": "ok",
     "timestamp": 1599245414320,
     "user": {
      "displayName": "Hemanth Kotagiri",
      "photoUrl": "https://lh3.googleusercontent.com/a-/AOh14GhXGdF8r2Wzt11jQkcbYP64Y4zRVcqWrJ2nBV48oA=s64",
      "userId": "08456305192725642260"
     },
     "user_tz": -330
    },
    "id": "89OaiJyeb8uy",
    "outputId": "0d5cbbcc-3177-46c0-96ca-a0805ca3f502"
   },
   "outputs": [
    {
     "name": "stdout",
     "output_type": "stream",
     "text": [
      "Object `` not found.\n"
     ]
    }
   ],
   "source": [
    "# store the final answer in this variable\n",
    "sum_of_numbers = sum(i for i in range(18, 535) if i%7==0)\n",
    "\n",
    "# perform the calculation here\n",
    "???"
   ]
  },
  {
   "cell_type": "code",
   "execution_count": 26,
   "metadata": {
    "colab": {
     "base_uri": "https://localhost:8080/",
     "height": 0
    },
    "colab_type": "code",
    "executionInfo": {
     "elapsed": 30218,
     "status": "ok",
     "timestamp": 1599245414321,
     "user": {
      "displayName": "Hemanth Kotagiri",
      "photoUrl": "https://lh3.googleusercontent.com/a-/AOh14GhXGdF8r2Wzt11jQkcbYP64Y4zRVcqWrJ2nBV48oA=s64",
      "userId": "08456305192725642260"
     },
     "user_tz": -330
    },
    "id": "93MuTuObb8u1",
    "outputId": "e48617ec-575b-4283-ce6e-6e52b8736987"
   },
   "outputs": [
    {
     "name": "stdout",
     "output_type": "stream",
     "text": [
      "The sum of all the numbers divisible by 7 between 18 and 534 is 20461\n"
     ]
    }
   ],
   "source": [
    "print('The sum of all the numbers divisible by 7 between 18 and 534 is', sum_of_numbers)"
   ]
  },
  {
   "cell_type": "markdown",
   "metadata": {
    "colab_type": "text",
    "id": "F6gvNgbRb8u5"
   },
   "source": [
    "If you are not able to figure out the solution to this problem, you can ask for hints on the community forum: https://jovian.ml/forum/t/assignment-1-python-practice/7761 . Remember to save your work before moving forward."
   ]
  },
  {
   "cell_type": "code",
   "execution_count": 27,
   "metadata": {
    "colab": {
     "base_uri": "https://localhost:8080/",
     "height": 0
    },
    "colab_type": "code",
    "executionInfo": {
     "elapsed": 33016,
     "status": "ok",
     "timestamp": 1599245417128,
     "user": {
      "displayName": "Hemanth Kotagiri",
      "photoUrl": "https://lh3.googleusercontent.com/a-/AOh14GhXGdF8r2Wzt11jQkcbYP64Y4zRVcqWrJ2nBV48oA=s64",
      "userId": "08456305192725642260"
     },
     "user_tz": -330
    },
    "id": "dI19I3afb8u6",
    "outputId": "8870ebec-23c5-49ea-a094-9d971b53e815"
   },
   "outputs": [
    {
     "name": "stdout",
     "output_type": "stream",
     "text": [
      "[jovian] Detected Colab notebook...\u001b[0m\n",
      "[jovian] Uploading colab notebook to Jovian...\u001b[0m\n",
      "[jovian] Committed successfully! https://jovian.ml/hemanth-kotagiri/python-practice-assignment-01\u001b[0m\n"
     ]
    },
    {
     "data": {
      "application/vnd.google.colaboratory.intrinsic+json": {
       "type": "string"
      },
      "text/plain": [
       "'https://jovian.ml/hemanth-kotagiri/python-practice-assignment-01'"
      ]
     },
     "execution_count": 27,
     "metadata": {
      "tags": []
     },
     "output_type": "execute_result"
    }
   ],
   "source": [
    "jovian.commit(project=project_name,environment=None)"
   ]
  },
  {
   "cell_type": "markdown",
   "metadata": {
    "colab_type": "text",
    "id": "shH0Hpvdb8u-"
   },
   "source": [
    "## Problem 4 - Flying to the Bahamas\n",
    "\n",
    "**Q: A travel company wants to fly a plane to the Bahamas. Flying the plane costs 5000 dollars. So far, 29 people have signed up for the trip. If the company charges 200 dollars per ticket, what is the profit made by the company?**\n",
    "\n",
    "Fill in values or arithmetic expressions for the variables below."
   ]
  },
  {
   "cell_type": "code",
   "execution_count": 28,
   "metadata": {
    "colab": {},
    "colab_type": "code",
    "executionInfo": {
     "elapsed": 33015,
     "status": "ok",
     "timestamp": 1599245417129,
     "user": {
      "displayName": "Hemanth Kotagiri",
      "photoUrl": "https://lh3.googleusercontent.com/a-/AOh14GhXGdF8r2Wzt11jQkcbYP64Y4zRVcqWrJ2nBV48oA=s64",
      "userId": "08456305192725642260"
     },
     "user_tz": -330
    },
    "id": "ng3kpUhmb8u-"
   },
   "outputs": [],
   "source": [
    "cost_of_flying_plane = 5000"
   ]
  },
  {
   "cell_type": "code",
   "execution_count": 29,
   "metadata": {
    "colab": {},
    "colab_type": "code",
    "executionInfo": {
     "elapsed": 33013,
     "status": "ok",
     "timestamp": 1599245417129,
     "user": {
      "displayName": "Hemanth Kotagiri",
      "photoUrl": "https://lh3.googleusercontent.com/a-/AOh14GhXGdF8r2Wzt11jQkcbYP64Y4zRVcqWrJ2nBV48oA=s64",
      "userId": "08456305192725642260"
     },
     "user_tz": -330
    },
    "id": "HcETQiOkb8vA"
   },
   "outputs": [],
   "source": [
    "number_of_passengers = 29"
   ]
  },
  {
   "cell_type": "code",
   "execution_count": 30,
   "metadata": {
    "colab": {},
    "colab_type": "code",
    "executionInfo": {
     "elapsed": 33010,
     "status": "ok",
     "timestamp": 1599245417130,
     "user": {
      "displayName": "Hemanth Kotagiri",
      "photoUrl": "https://lh3.googleusercontent.com/a-/AOh14GhXGdF8r2Wzt11jQkcbYP64Y4zRVcqWrJ2nBV48oA=s64",
      "userId": "08456305192725642260"
     },
     "user_tz": -330
    },
    "id": "E0vlt6kmb8vD"
   },
   "outputs": [],
   "source": [
    "price_of_ticket = 200"
   ]
  },
  {
   "cell_type": "code",
   "execution_count": 31,
   "metadata": {
    "colab": {},
    "colab_type": "code",
    "executionInfo": {
     "elapsed": 33009,
     "status": "ok",
     "timestamp": 1599245417131,
     "user": {
      "displayName": "Hemanth Kotagiri",
      "photoUrl": "https://lh3.googleusercontent.com/a-/AOh14GhXGdF8r2Wzt11jQkcbYP64Y4zRVcqWrJ2nBV48oA=s64",
      "userId": "08456305192725642260"
     },
     "user_tz": -330
    },
    "id": "XaAh1CVRb8vF"
   },
   "outputs": [],
   "source": [
    "profit = number_of_passengers * price_of_ticket - cost_of_flying_plane"
   ]
  },
  {
   "cell_type": "code",
   "execution_count": 32,
   "metadata": {
    "colab": {
     "base_uri": "https://localhost:8080/",
     "height": 34
    },
    "colab_type": "code",
    "executionInfo": {
     "elapsed": 33001,
     "status": "ok",
     "timestamp": 1599245417131,
     "user": {
      "displayName": "Hemanth Kotagiri",
      "photoUrl": "https://lh3.googleusercontent.com/a-/AOh14GhXGdF8r2Wzt11jQkcbYP64Y4zRVcqWrJ2nBV48oA=s64",
      "userId": "08456305192725642260"
     },
     "user_tz": -330
    },
    "id": "4hQQ2Xp3b8vK",
    "outputId": "35002d6f-dd88-40c7-8f1c-1908f35bf7c8"
   },
   "outputs": [
    {
     "name": "stdout",
     "output_type": "stream",
     "text": [
      "The company makes of a profit of 800 dollars\n"
     ]
    }
   ],
   "source": [
    "print('The company makes of a profit of {} dollars'.format(profit))"
   ]
  },
  {
   "cell_type": "markdown",
   "metadata": {
    "colab_type": "text",
    "id": "E5O0CHklb8vM"
   },
   "source": [
    "**Q (Optional): Out of the 29 people who took the flight, only 12 buy tickets to return from the Bahamas on the same plane. If the flying the plane back also costs 5000 dollars, and does the company make an overall profit or loss? The company charges the same fee of 200 dollars per ticket for the return flight.**\n",
    "\n",
    "Use an `if` statement to display the result."
   ]
  },
  {
   "cell_type": "code",
   "execution_count": 33,
   "metadata": {
    "colab": {},
    "colab_type": "code",
    "executionInfo": {
     "elapsed": 33000,
     "status": "ok",
     "timestamp": 1599245417132,
     "user": {
      "displayName": "Hemanth Kotagiri",
      "photoUrl": "https://lh3.googleusercontent.com/a-/AOh14GhXGdF8r2Wzt11jQkcbYP64Y4zRVcqWrJ2nBV48oA=s64",
      "userId": "08456305192725642260"
     },
     "user_tz": -330
    },
    "id": "6Ndf0C_Sb8vN"
   },
   "outputs": [],
   "source": [
    "# this is optional\n",
    "number_of_passengers += 12\n",
    "loss = number_of_passengers * price_of_ticket - (cost_of_flying_plane * 2)"
   ]
  },
  {
   "cell_type": "code",
   "execution_count": 34,
   "metadata": {
    "colab": {
     "base_uri": "https://localhost:8080/",
     "height": 34
    },
    "colab_type": "code",
    "executionInfo": {
     "elapsed": 32990,
     "status": "ok",
     "timestamp": 1599245417133,
     "user": {
      "displayName": "Hemanth Kotagiri",
      "photoUrl": "https://lh3.googleusercontent.com/a-/AOh14GhXGdF8r2Wzt11jQkcbYP64Y4zRVcqWrJ2nBV48oA=s64",
      "userId": "08456305192725642260"
     },
     "user_tz": -330
    },
    "id": "PTdXIgnbb8vP",
    "outputId": "e7d05abe-63d0-43fd-93da-fb291ef28879"
   },
   "outputs": [
    {
     "name": "stdout",
     "output_type": "stream",
     "text": [
      "The company makes an overall loss of -1800 dollars\n"
     ]
    }
   ],
   "source": [
    "# this is optional\n",
    "if loss > 0:\n",
    "    print(\"The company makes an overall profit of {} dollars\".format(loss))\n",
    "else:\n",
    "    print(\"The company makes an overall loss of {} dollars\".format(loss))"
   ]
  },
  {
   "cell_type": "markdown",
   "metadata": {
    "colab_type": "text",
    "id": "HFHQmcQOb8vS"
   },
   "source": [
    "Great work so far! Want to take a break? Remember to save and upload your notebook to record your progress."
   ]
  },
  {
   "cell_type": "code",
   "execution_count": 35,
   "metadata": {
    "colab": {
     "base_uri": "https://localhost:8080/",
     "height": 86
    },
    "colab_type": "code",
    "executionInfo": {
     "elapsed": 35523,
     "status": "ok",
     "timestamp": 1599245419669,
     "user": {
      "displayName": "Hemanth Kotagiri",
      "photoUrl": "https://lh3.googleusercontent.com/a-/AOh14GhXGdF8r2Wzt11jQkcbYP64Y4zRVcqWrJ2nBV48oA=s64",
      "userId": "08456305192725642260"
     },
     "user_tz": -330
    },
    "id": "8UQuZGpEb8vT",
    "outputId": "32bb3a6c-c19b-4c9d-d51d-0b793c985364"
   },
   "outputs": [
    {
     "name": "stdout",
     "output_type": "stream",
     "text": [
      "[jovian] Detected Colab notebook...\u001b[0m\n",
      "[jovian] Uploading colab notebook to Jovian...\u001b[0m\n",
      "[jovian] Committed successfully! https://jovian.ml/hemanth-kotagiri/python-practice-assignment-01\u001b[0m\n"
     ]
    },
    {
     "data": {
      "application/vnd.google.colaboratory.intrinsic+json": {
       "type": "string"
      },
      "text/plain": [
       "'https://jovian.ml/hemanth-kotagiri/python-practice-assignment-01'"
      ]
     },
     "execution_count": 35,
     "metadata": {
      "tags": []
     },
     "output_type": "execute_result"
    }
   ],
   "source": [
    "jovian.commit(project=project_name,environment=None)"
   ]
  },
  {
   "cell_type": "markdown",
   "metadata": {
    "colab_type": "text",
    "id": "o00gGcO4b8vV"
   },
   "source": [
    "## Problem 5 - Twitter Sentiment Analysis\n",
    "\n",
    "Are your ready to perform some *Data Analysis with Python*? In this problem, we'll analyze some fictional tweets and find out whether the overall sentiment of Twitter users is happy or sad. This is a simplified version of an important real world problem called *sentiment analysis*.\n",
    "\n",
    "Before we begin, we need a list of tweets to analyze. We're picking a small number of tweets here, but the exact same analysis can also be done for thousands, or even millions of tweets. The collection of data that we perform analysis on is often called a *dataset*."
   ]
  },
  {
   "cell_type": "code",
   "execution_count": 36,
   "metadata": {
    "colab": {},
    "colab_type": "code",
    "executionInfo": {
     "elapsed": 35512,
     "status": "ok",
     "timestamp": 1599245419670,
     "user": {
      "displayName": "Hemanth Kotagiri",
      "photoUrl": "https://lh3.googleusercontent.com/a-/AOh14GhXGdF8r2Wzt11jQkcbYP64Y4zRVcqWrJ2nBV48oA=s64",
      "userId": "08456305192725642260"
     },
     "user_tz": -330
    },
    "id": "j76bfiJJb8vW"
   },
   "outputs": [],
   "source": [
    "tweets = [\n",
    "    \"Wow, what a great day today!! #sunshine\",\n",
    "    \"I feel sad about the things going on around us. #covid19\",\n",
    "    \"I'm really excited to learn Python with @JovianML #zerotopandas\",\n",
    "    \"This is a really nice song. #linkinpark\",\n",
    "    \"The python programming language is useful for data science\",\n",
    "    \"Why do bad things happen to me?\",\n",
    "    \"Apple announces the release of the new iPhone 12. Fans are excited.\",\n",
    "    \"Spent my day with family!! #happy\",\n",
    "    \"Check out my blog post on common string operations in Python. #zerotopandas\",\n",
    "    \"Freecodecamp has great coding tutorials. #skillup\"\n",
    "]"
   ]
  },
  {
   "cell_type": "markdown",
   "metadata": {
    "colab_type": "text",
    "id": "-lUWAMoQb8va"
   },
   "source": [
    "Let's begin by answering a very simple but important question about our dataset.\n",
    "\n",
    "**Q: How many tweets does the dataset contain?**"
   ]
  },
  {
   "cell_type": "code",
   "execution_count": 37,
   "metadata": {
    "colab": {},
    "colab_type": "code",
    "executionInfo": {
     "elapsed": 35504,
     "status": "ok",
     "timestamp": 1599245419671,
     "user": {
      "displayName": "Hemanth Kotagiri",
      "photoUrl": "https://lh3.googleusercontent.com/a-/AOh14GhXGdF8r2Wzt11jQkcbYP64Y4zRVcqWrJ2nBV48oA=s64",
      "userId": "08456305192725642260"
     },
     "user_tz": -330
    },
    "id": "onoz-wQob8vc"
   },
   "outputs": [],
   "source": [
    "number_of_tweets = len(tweets)"
   ]
  },
  {
   "cell_type": "markdown",
   "metadata": {
    "colab_type": "text",
    "id": "oZML2jWPb8vf"
   },
   "source": [
    "Let's create two lists of words: `happy_words` and `sad_words`. We will use these to check if a tweet is happy or sad."
   ]
  },
  {
   "cell_type": "code",
   "execution_count": 38,
   "metadata": {
    "colab": {},
    "colab_type": "code",
    "executionInfo": {
     "elapsed": 35496,
     "status": "ok",
     "timestamp": 1599245419672,
     "user": {
      "displayName": "Hemanth Kotagiri",
      "photoUrl": "https://lh3.googleusercontent.com/a-/AOh14GhXGdF8r2Wzt11jQkcbYP64Y4zRVcqWrJ2nBV48oA=s64",
      "userId": "08456305192725642260"
     },
     "user_tz": -330
    },
    "id": "cRg2GAc1b8vf"
   },
   "outputs": [],
   "source": [
    "happy_words = ['great', 'excited', 'happy', 'nice', 'wonderful', 'amazing', 'good', 'best']"
   ]
  },
  {
   "cell_type": "code",
   "execution_count": 39,
   "metadata": {
    "colab": {},
    "colab_type": "code",
    "executionInfo": {
     "elapsed": 35483,
     "status": "ok",
     "timestamp": 1599245419672,
     "user": {
      "displayName": "Hemanth Kotagiri",
      "photoUrl": "https://lh3.googleusercontent.com/a-/AOh14GhXGdF8r2Wzt11jQkcbYP64Y4zRVcqWrJ2nBV48oA=s64",
      "userId": "08456305192725642260"
     },
     "user_tz": -330
    },
    "id": "rhRz20Nbb8vj"
   },
   "outputs": [],
   "source": [
    "sad_words = ['sad', 'bad', 'tragic', 'unhappy', 'worst']"
   ]
  },
  {
   "cell_type": "markdown",
   "metadata": {
    "colab_type": "text",
    "id": "55LhmG2cb8vo"
   },
   "source": [
    "To identify whether a tweet is happy, we can simply check if contains any of the words from `happy_words`. Here's an example:"
   ]
  },
  {
   "cell_type": "code",
   "execution_count": 40,
   "metadata": {
    "colab": {},
    "colab_type": "code",
    "executionInfo": {
     "elapsed": 35471,
     "status": "ok",
     "timestamp": 1599245419673,
     "user": {
      "displayName": "Hemanth Kotagiri",
      "photoUrl": "https://lh3.googleusercontent.com/a-/AOh14GhXGdF8r2Wzt11jQkcbYP64Y4zRVcqWrJ2nBV48oA=s64",
      "userId": "08456305192725642260"
     },
     "user_tz": -330
    },
    "id": "7C-uk2c3b8vp"
   },
   "outputs": [],
   "source": [
    "sample_tweet = tweets[0]"
   ]
  },
  {
   "cell_type": "code",
   "execution_count": 41,
   "metadata": {
    "colab": {
     "base_uri": "https://localhost:8080/",
     "height": 35
    },
    "colab_type": "code",
    "executionInfo": {
     "elapsed": 35463,
     "status": "ok",
     "timestamp": 1599245419674,
     "user": {
      "displayName": "Hemanth Kotagiri",
      "photoUrl": "https://lh3.googleusercontent.com/a-/AOh14GhXGdF8r2Wzt11jQkcbYP64Y4zRVcqWrJ2nBV48oA=s64",
      "userId": "08456305192725642260"
     },
     "user_tz": -330
    },
    "id": "XG5B9C6Ab8vv",
    "outputId": "d38ca237-24c4-45cc-daa5-c5a5badb9b04"
   },
   "outputs": [
    {
     "data": {
      "application/vnd.google.colaboratory.intrinsic+json": {
       "type": "string"
      },
      "text/plain": [
       "'Wow, what a great day today!! #sunshine'"
      ]
     },
     "execution_count": 41,
     "metadata": {
      "tags": []
     },
     "output_type": "execute_result"
    }
   ],
   "source": [
    "sample_tweet"
   ]
  },
  {
   "cell_type": "code",
   "execution_count": 42,
   "metadata": {
    "colab": {},
    "colab_type": "code",
    "executionInfo": {
     "elapsed": 35453,
     "status": "ok",
     "timestamp": 1599245419674,
     "user": {
      "displayName": "Hemanth Kotagiri",
      "photoUrl": "https://lh3.googleusercontent.com/a-/AOh14GhXGdF8r2Wzt11jQkcbYP64Y4zRVcqWrJ2nBV48oA=s64",
      "userId": "08456305192725642260"
     },
     "user_tz": -330
    },
    "id": "_QM2G5r6b8vz"
   },
   "outputs": [],
   "source": [
    "is_tweet_happy = False\n",
    "\n",
    "# Get a word from happy_words\n",
    "for word in happy_words:\n",
    "    # Check if the tweet contains the word\n",
    "    if word in sample_tweet:\n",
    "        # Word found! Mark the tweet as happy\n",
    "        is_tweet_happy = True"
   ]
  },
  {
   "cell_type": "markdown",
   "metadata": {
    "colab_type": "text",
    "id": "05fm2JXQb8v3"
   },
   "source": [
    "Do you understand what we're doing above? \n",
    "\n",
    "> For each word in the list of happy words, we check if is a part of the selected tweet. If the word is indded a part of the tweet, we set the variable `is_tweet_happy` to `True`. "
   ]
  },
  {
   "cell_type": "code",
   "execution_count": 43,
   "metadata": {
    "colab": {
     "base_uri": "https://localhost:8080/",
     "height": 34
    },
    "colab_type": "code",
    "executionInfo": {
     "elapsed": 35445,
     "status": "ok",
     "timestamp": 1599245419676,
     "user": {
      "displayName": "Hemanth Kotagiri",
      "photoUrl": "https://lh3.googleusercontent.com/a-/AOh14GhXGdF8r2Wzt11jQkcbYP64Y4zRVcqWrJ2nBV48oA=s64",
      "userId": "08456305192725642260"
     },
     "user_tz": -330
    },
    "id": "sJpTus2bb8v4",
    "outputId": "774050fd-2211-4db6-a757-291b82d292fb"
   },
   "outputs": [
    {
     "data": {
      "text/plain": [
       "True"
      ]
     },
     "execution_count": 43,
     "metadata": {
      "tags": []
     },
     "output_type": "execute_result"
    }
   ],
   "source": [
    "is_tweet_happy"
   ]
  },
  {
   "cell_type": "markdown",
   "metadata": {
    "colab_type": "text",
    "id": "qQnJnhHEb8v8"
   },
   "source": [
    "**Q: Determine the number of tweets in the dataset that can be classified as happy.**\n",
    "\n",
    "*Hint*: You'll need to use a loop inside another loop to do this. Use the code from the example shown above."
   ]
  },
  {
   "cell_type": "code",
   "execution_count": 44,
   "metadata": {
    "colab": {},
    "colab_type": "code",
    "executionInfo": {
     "elapsed": 35433,
     "status": "ok",
     "timestamp": 1599245419676,
     "user": {
      "displayName": "Hemanth Kotagiri",
      "photoUrl": "https://lh3.googleusercontent.com/a-/AOh14GhXGdF8r2Wzt11jQkcbYP64Y4zRVcqWrJ2nBV48oA=s64",
      "userId": "08456305192725642260"
     },
     "user_tz": -330
    },
    "id": "4xdwrKGKb8v8"
   },
   "outputs": [],
   "source": [
    "# store the final answer in this variable\n",
    "number_of_happy_tweets = sum((1 for tweet in tweets if set.intersection(set(tweet.split()), set(happy_words))))\n",
    "\n",
    "# perform the calculations here"
   ]
  },
  {
   "cell_type": "code",
   "execution_count": 45,
   "metadata": {
    "colab": {
     "base_uri": "https://localhost:8080/",
     "height": 34
    },
    "colab_type": "code",
    "executionInfo": {
     "elapsed": 35424,
     "status": "ok",
     "timestamp": 1599245419677,
     "user": {
      "displayName": "Hemanth Kotagiri",
      "photoUrl": "https://lh3.googleusercontent.com/a-/AOh14GhXGdF8r2Wzt11jQkcbYP64Y4zRVcqWrJ2nBV48oA=s64",
      "userId": "08456305192725642260"
     },
     "user_tz": -330
    },
    "id": "372DFlyzb8wA",
    "outputId": "ad9c8b43-76db-4230-b216-de9f4ee9fd1b"
   },
   "outputs": [
    {
     "name": "stdout",
     "output_type": "stream",
     "text": [
      "Number of happy tweets: 4\n"
     ]
    }
   ],
   "source": [
    "print(\"Number of happy tweets:\", number_of_happy_tweets)"
   ]
  },
  {
   "cell_type": "markdown",
   "metadata": {
    "colab_type": "text",
    "id": "qzRzMLHZb8wD"
   },
   "source": [
    "If you are not able to figure out the solution to this problem, you can ask for hints on the community forum: https://jovian.ml/forum/t/assignment-1-python-practice/7761 . Also try adding `print` statements inside your loops to inspect variables and make sure your logic is correct."
   ]
  },
  {
   "cell_type": "markdown",
   "metadata": {
    "colab_type": "text",
    "id": "Z349ppTRb8wE"
   },
   "source": [
    "**Q: What fraction of the total number of tweets are happy?**\n",
    "\n",
    "For example, if 2 out of 10 tweets are happy, then the answer is `2/10` i.e. `0.2`."
   ]
  },
  {
   "cell_type": "code",
   "execution_count": 46,
   "metadata": {
    "colab": {},
    "colab_type": "code",
    "executionInfo": {
     "elapsed": 35415,
     "status": "ok",
     "timestamp": 1599245419678,
     "user": {
      "displayName": "Hemanth Kotagiri",
      "photoUrl": "https://lh3.googleusercontent.com/a-/AOh14GhXGdF8r2Wzt11jQkcbYP64Y4zRVcqWrJ2nBV48oA=s64",
      "userId": "08456305192725642260"
     },
     "user_tz": -330
    },
    "id": "fsbzJioTb8wF"
   },
   "outputs": [],
   "source": [
    "happy_fraction = number_of_happy_tweets/10"
   ]
  },
  {
   "cell_type": "code",
   "execution_count": 47,
   "metadata": {
    "colab": {
     "base_uri": "https://localhost:8080/",
     "height": 34
    },
    "colab_type": "code",
    "executionInfo": {
     "elapsed": 35407,
     "status": "ok",
     "timestamp": 1599245419678,
     "user": {
      "displayName": "Hemanth Kotagiri",
      "photoUrl": "https://lh3.googleusercontent.com/a-/AOh14GhXGdF8r2Wzt11jQkcbYP64Y4zRVcqWrJ2nBV48oA=s64",
      "userId": "08456305192725642260"
     },
     "user_tz": -330
    },
    "id": "MxHV3nEtb8wH",
    "outputId": "923b643a-1e66-414b-929c-6e3e38a1fef8"
   },
   "outputs": [
    {
     "name": "stdout",
     "output_type": "stream",
     "text": [
      "The fraction of happy tweets is: 0.4\n"
     ]
    }
   ],
   "source": [
    "print(\"The fraction of happy tweets is:\", happy_fraction)"
   ]
  },
  {
   "cell_type": "markdown",
   "metadata": {
    "colab_type": "text",
    "id": "ubZL3FZOb8wP"
   },
   "source": [
    "To identify whether a tweet is sad, we can simply check if contains any of the words from `sad_words`.\n",
    "\n",
    "**Q: Determine the number of tweets in the dataset that can be classified as sad.**"
   ]
  },
  {
   "cell_type": "code",
   "execution_count": 48,
   "metadata": {
    "colab": {},
    "colab_type": "code",
    "executionInfo": {
     "elapsed": 35398,
     "status": "ok",
     "timestamp": 1599245419679,
     "user": {
      "displayName": "Hemanth Kotagiri",
      "photoUrl": "https://lh3.googleusercontent.com/a-/AOh14GhXGdF8r2Wzt11jQkcbYP64Y4zRVcqWrJ2nBV48oA=s64",
      "userId": "08456305192725642260"
     },
     "user_tz": -330
    },
    "id": "KlQ9616Wb8wP"
   },
   "outputs": [],
   "source": [
    "# store the final answer in this variable\n",
    "number_of_sad_tweets = sum((1 for tweet in tweets if set.intersection(set(tweet.split()), set(sad_words))))\n",
    "\n",
    "\n",
    "# perform the calculations here"
   ]
  },
  {
   "cell_type": "code",
   "execution_count": 49,
   "metadata": {
    "colab": {
     "base_uri": "https://localhost:8080/",
     "height": 34
    },
    "colab_type": "code",
    "executionInfo": {
     "elapsed": 35390,
     "status": "ok",
     "timestamp": 1599245419679,
     "user": {
      "displayName": "Hemanth Kotagiri",
      "photoUrl": "https://lh3.googleusercontent.com/a-/AOh14GhXGdF8r2Wzt11jQkcbYP64Y4zRVcqWrJ2nBV48oA=s64",
      "userId": "08456305192725642260"
     },
     "user_tz": -330
    },
    "id": "RHWr5cTcb8wR",
    "outputId": "d2e4558c-4b56-4b61-dc89-505c103f4575"
   },
   "outputs": [
    {
     "name": "stdout",
     "output_type": "stream",
     "text": [
      "Number of sad tweets: 2\n"
     ]
    }
   ],
   "source": [
    "print(\"Number of sad tweets:\", number_of_sad_tweets)"
   ]
  },
  {
   "cell_type": "markdown",
   "metadata": {
    "colab_type": "text",
    "id": "V1LGMGnXb8wU"
   },
   "source": [
    "**Q: What fraction of the total number of tweets are sad?**"
   ]
  },
  {
   "cell_type": "code",
   "execution_count": 50,
   "metadata": {
    "colab": {},
    "colab_type": "code",
    "executionInfo": {
     "elapsed": 35380,
     "status": "ok",
     "timestamp": 1599245419680,
     "user": {
      "displayName": "Hemanth Kotagiri",
      "photoUrl": "https://lh3.googleusercontent.com/a-/AOh14GhXGdF8r2Wzt11jQkcbYP64Y4zRVcqWrJ2nBV48oA=s64",
      "userId": "08456305192725642260"
     },
     "user_tz": -330
    },
    "id": "hNNyKbNab8wV"
   },
   "outputs": [],
   "source": [
    "sad_fraction = number_of_sad_tweets/10"
   ]
  },
  {
   "cell_type": "code",
   "execution_count": 51,
   "metadata": {
    "colab": {
     "base_uri": "https://localhost:8080/",
     "height": 34
    },
    "colab_type": "code",
    "executionInfo": {
     "elapsed": 35371,
     "status": "ok",
     "timestamp": 1599245419680,
     "user": {
      "displayName": "Hemanth Kotagiri",
      "photoUrl": "https://lh3.googleusercontent.com/a-/AOh14GhXGdF8r2Wzt11jQkcbYP64Y4zRVcqWrJ2nBV48oA=s64",
      "userId": "08456305192725642260"
     },
     "user_tz": -330
    },
    "id": "XSvhNmfnb8wZ",
    "outputId": "ef78dc3c-e7bb-4c1d-e7b5-cd41e69197b2"
   },
   "outputs": [
    {
     "name": "stdout",
     "output_type": "stream",
     "text": [
      "The fraction of sad tweets is: 0.2\n"
     ]
    }
   ],
   "source": [
    "print(\"The fraction of sad tweets is:\", sad_fraction)"
   ]
  },
  {
   "cell_type": "markdown",
   "metadata": {
    "colab_type": "text",
    "id": "4HiN3qheb8wd"
   },
   "source": [
    "The rest of this problem is optional. Let's save your work before continuing."
   ]
  },
  {
   "cell_type": "code",
   "execution_count": 52,
   "metadata": {
    "colab": {
     "base_uri": "https://localhost:8080/",
     "height": 86
    },
    "colab_type": "code",
    "executionInfo": {
     "elapsed": 38153,
     "status": "ok",
     "timestamp": 1599245422473,
     "user": {
      "displayName": "Hemanth Kotagiri",
      "photoUrl": "https://lh3.googleusercontent.com/a-/AOh14GhXGdF8r2Wzt11jQkcbYP64Y4zRVcqWrJ2nBV48oA=s64",
      "userId": "08456305192725642260"
     },
     "user_tz": -330
    },
    "id": "AqwBoToCb8we",
    "outputId": "dfc00db1-3406-4aa7-b68d-c76b71f60d63"
   },
   "outputs": [
    {
     "name": "stdout",
     "output_type": "stream",
     "text": [
      "[jovian] Detected Colab notebook...\u001b[0m\n",
      "[jovian] Uploading colab notebook to Jovian...\u001b[0m\n",
      "[jovian] Committed successfully! https://jovian.ml/hemanth-kotagiri/python-practice-assignment-01\u001b[0m\n"
     ]
    },
    {
     "data": {
      "application/vnd.google.colaboratory.intrinsic+json": {
       "type": "string"
      },
      "text/plain": [
       "'https://jovian.ml/hemanth-kotagiri/python-practice-assignment-01'"
      ]
     },
     "execution_count": 52,
     "metadata": {
      "tags": []
     },
     "output_type": "execute_result"
    }
   ],
   "source": [
    "jovian.commit(project=project_name,environment=None)"
   ]
  },
  {
   "cell_type": "markdown",
   "metadata": {
    "colab_type": "text",
    "id": "AjYXcWPzb8wg"
   },
   "source": [
    "Great work, even with some basic analysis, we already know a lot about the sentiment of the tweets given to us. Let us now define a metric called \"sentiment score\", to summarize the overall sentiment of the tweets.\n",
    "\n",
    "**Q (Optional): Calculate the sentiment score, which is defined as the difference betweek the fraction of happy tweets and the fraction of sad tweets.**"
   ]
  },
  {
   "cell_type": "code",
   "execution_count": 54,
   "metadata": {
    "colab": {},
    "colab_type": "code",
    "executionInfo": {
     "elapsed": 1658,
     "status": "ok",
     "timestamp": 1599245469325,
     "user": {
      "displayName": "Hemanth Kotagiri",
      "photoUrl": "https://lh3.googleusercontent.com/a-/AOh14GhXGdF8r2Wzt11jQkcbYP64Y4zRVcqWrJ2nBV48oA=s64",
      "userId": "08456305192725642260"
     },
     "user_tz": -330
    },
    "id": "v8ytSg4Pb8wg"
   },
   "outputs": [],
   "source": [
    "sentiment_score = happy_fraction - sad_fraction"
   ]
  },
  {
   "cell_type": "code",
   "execution_count": 55,
   "metadata": {
    "colab": {
     "base_uri": "https://localhost:8080/",
     "height": 34
    },
    "colab_type": "code",
    "executionInfo": {
     "elapsed": 1108,
     "status": "ok",
     "timestamp": 1599245472793,
     "user": {
      "displayName": "Hemanth Kotagiri",
      "photoUrl": "https://lh3.googleusercontent.com/a-/AOh14GhXGdF8r2Wzt11jQkcbYP64Y4zRVcqWrJ2nBV48oA=s64",
      "userId": "08456305192725642260"
     },
     "user_tz": -330
    },
    "id": "-ctqC3O7b8wj",
    "outputId": "b65a3c6f-07f2-4729-b572-3e832237fcf1"
   },
   "outputs": [
    {
     "name": "stdout",
     "output_type": "stream",
     "text": [
      "The sentiment score for the given tweets is 0.2\n"
     ]
    }
   ],
   "source": [
    "print(\"The sentiment score for the given tweets is\", sentiment_score)"
   ]
  },
  {
   "cell_type": "markdown",
   "metadata": {
    "colab_type": "text",
    "id": "o9UI01Ksb8wl"
   },
   "source": [
    "In a real world scenario, we could calculate & record the sentiment score for all the tweets sent out every day. This information can be used to plot a graph and study the trends in the changing sentiment of the world. The following graph was creating using the Python data visualization library `matplotlib`, which we'll cover later in the course.\n",
    "\n",
    "<img src=\"https://i.imgur.com/6CCIwCb.png\" style=\"width:400px\">\n",
    "\n",
    "What does the sentiment score represent? Based on the value of the sentiment score, can you identify if the overall sentiment of the dataset is happy or sad?\n",
    "\n",
    "**Q (Optional): Display whether the overall sentiment of the given dataset of tweets is happy or sad, using the sentiment score.**"
   ]
  },
  {
   "cell_type": "code",
   "execution_count": 56,
   "metadata": {
    "colab": {
     "base_uri": "https://localhost:8080/",
     "height": 34
    },
    "colab_type": "code",
    "executionInfo": {
     "elapsed": 1328,
     "status": "ok",
     "timestamp": 1599245520806,
     "user": {
      "displayName": "Hemanth Kotagiri",
      "photoUrl": "https://lh3.googleusercontent.com/a-/AOh14GhXGdF8r2Wzt11jQkcbYP64Y4zRVcqWrJ2nBV48oA=s64",
      "userId": "08456305192725642260"
     },
     "user_tz": -330
    },
    "id": "jmr01Wxqb8wm",
    "outputId": "eab9e740-f72b-45da-e3b5-25adc55fce00"
   },
   "outputs": [
    {
     "name": "stdout",
     "output_type": "stream",
     "text": [
      "The overall sentiment is sad\n"
     ]
    }
   ],
   "source": [
    "if sentiment_score > 0.5: \n",
    "    print(\"The overall sentiment is happy\")\n",
    "else:\n",
    "    print(\"The overall sentiment is sad\")"
   ]
  },
  {
   "cell_type": "markdown",
   "metadata": {
    "colab_type": "text",
    "id": "v99F_9mUb8wq"
   },
   "source": [
    "Finally, it's also important to track how many tweets are neutral i.e. neither happy nor sad. If a large fraction of tweets are marked neutral, maybe we need to improve our lists of happy and sad words. \n",
    "\n",
    "**Q (Optional): What is the fraction of tweets that are neutral i.e. neither happy nor sad.**"
   ]
  },
  {
   "cell_type": "code",
   "execution_count": 61,
   "metadata": {
    "colab": {},
    "colab_type": "code",
    "executionInfo": {
     "elapsed": 1502,
     "status": "ok",
     "timestamp": 1599246134097,
     "user": {
      "displayName": "Hemanth Kotagiri",
      "photoUrl": "https://lh3.googleusercontent.com/a-/AOh14GhXGdF8r2Wzt11jQkcbYP64Y4zRVcqWrJ2nBV48oA=s64",
      "userId": "08456305192725642260"
     },
     "user_tz": -330
    },
    "id": "7arMmQftb8wr"
   },
   "outputs": [],
   "source": [
    "# store the final answer in this variable\n",
    "number_of_neutral_tweets = sum([1 for tweet in tweets if not (set.intersection(set(tweet.split()), set(happy_words)) or set.intersection(set(tweet.split()), set(sad_words))) ])\n",
    "\n",
    "# perform the calculation here"
   ]
  },
  {
   "cell_type": "code",
   "execution_count": 62,
   "metadata": {
    "colab": {},
    "colab_type": "code",
    "executionInfo": {
     "elapsed": 1339,
     "status": "ok",
     "timestamp": 1599246137298,
     "user": {
      "displayName": "Hemanth Kotagiri",
      "photoUrl": "https://lh3.googleusercontent.com/a-/AOh14GhXGdF8r2Wzt11jQkcbYP64Y4zRVcqWrJ2nBV48oA=s64",
      "userId": "08456305192725642260"
     },
     "user_tz": -330
    },
    "id": "Q94-RjqRb8wv"
   },
   "outputs": [],
   "source": [
    "neutral_fraction = number_of_neutral_tweets / 10"
   ]
  },
  {
   "cell_type": "code",
   "execution_count": 63,
   "metadata": {
    "colab": {
     "base_uri": "https://localhost:8080/",
     "height": 34
    },
    "colab_type": "code",
    "executionInfo": {
     "elapsed": 874,
     "status": "ok",
     "timestamp": 1599246138729,
     "user": {
      "displayName": "Hemanth Kotagiri",
      "photoUrl": "https://lh3.googleusercontent.com/a-/AOh14GhXGdF8r2Wzt11jQkcbYP64Y4zRVcqWrJ2nBV48oA=s64",
      "userId": "08456305192725642260"
     },
     "user_tz": -330
    },
    "id": "UZ8hPRksb8wx",
    "outputId": "40189747-1901-4ee3-c5d3-cc06558c6bff"
   },
   "outputs": [
    {
     "name": "stdout",
     "output_type": "stream",
     "text": [
      "The fraction of neutral tweets is 0.4\n"
     ]
    }
   ],
   "source": [
    "print('The fraction of neutral tweets is', neutral_fraction)"
   ]
  },
  {
   "cell_type": "markdown",
   "metadata": {
    "colab_type": "text",
    "id": "UQrBEDKnb8wz"
   },
   "source": [
    "Ponder upon these questions and try some experiments to hone your skills further:\n",
    "\n",
    "* What are the limitations of our approach? When will it go wrong or give incorrect results?\n",
    "* How can we improve our approach to address the limitations?\n",
    "* What are some other questions you would like to ask, given a list of tweets?\n",
    "* Try collecting some real tweets from your Twitter timeline and repeat this analysis. Do the results make sense?\n",
    "\n",
    "**IMPORTANT NOTE**: If you want to try out these experiments, please create a new notebook using the \"New Notebook\" button on your Jovian.ml profile, to avoid making unintended changes to your assignment submission notebook."
   ]
  },
  {
   "cell_type": "markdown",
   "metadata": {
    "colab_type": "text",
    "id": "zO5tX2_Rb8w0"
   },
   "source": [
    "## Submission \n",
    "\n",
    "Congratulations on making it this far! You've reached the end of this assignment, and you just completed your first data analysis problem. It's time to record one final version of your notebook for submission.\n",
    "\n",
    "Make a submission here by filling the submission form: https://jovian.ml/learn/data-analysis-with-python-zero-to-pandas/assignment/assignment-1-python-basics-practice"
   ]
  },
  {
   "cell_type": "code",
   "execution_count": null,
   "metadata": {
    "colab": {},
    "colab_type": "code",
    "executionInfo": {
     "elapsed": 38134,
     "status": "aborted",
     "timestamp": 1599245422478,
     "user": {
      "displayName": "Hemanth Kotagiri",
      "photoUrl": "https://lh3.googleusercontent.com/a-/AOh14GhXGdF8r2Wzt11jQkcbYP64Y4zRVcqWrJ2nBV48oA=s64",
      "userId": "08456305192725642260"
     },
     "user_tz": -330
    },
    "id": "tMs95CHob8w0",
    "scrolled": false
   },
   "outputs": [],
   "source": [
    "jovian.commit(project=project_name,environment=None)"
   ]
  }
 ],
 "metadata": {
  "colab": {
   "name": "python-practice-assignment.ipynb",
   "provenance": []
  },
  "kernelspec": {
   "display_name": "Python 3",
   "language": "python",
   "name": "python3"
  },
  "language_info": {
   "codemirror_mode": {
    "name": "ipython",
    "version": 3
   },
   "file_extension": ".py",
   "mimetype": "text/x-python",
   "name": "python",
   "nbconvert_exporter": "python",
   "pygments_lexer": "ipython3",
   "version": "3.8.5"
  }
 },
 "nbformat": 4,
 "nbformat_minor": 0
}